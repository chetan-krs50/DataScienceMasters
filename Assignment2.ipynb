{
 "cells": [
  {
   "cell_type": "markdown",
   "id": "b6586c43-1f8c-4bd4-b696-aa2acff8fd43",
   "metadata": {},
   "source": [
    "#question 1\n",
    "Using # or \"\"\" we can comment the code\n",
    "There are 2 types of comment:\n",
    "1.single line comment\n",
    "2.Multi line comment"
   ]
  },
  {
   "cell_type": "markdown",
   "id": "d76e3ad6-f41f-4870-b6b5-a21380351438",
   "metadata": {},
   "source": [
    "#question2\n",
    "variable is name of container which holds the value.It is combined of vary+able which means it can be changed.\n",
    "It is also name of memory location\n",
    "\n",
    "eg. to declare and assign value\n",
    "a=10"
   ]
  },
  {
   "cell_type": "markdown",
   "id": "68d6b4e3-8d67-4ce7-b99b-adcbfbbdc979",
   "metadata": {},
   "source": [
    "#question no-3\n",
    "you can convert data type from one to another using typecasting.\n",
    "eg: if a=2 needs to be converted to '2' we can use a=str(a)"
   ]
  },
  {
   "cell_type": "markdown",
   "id": "e92cff96-6150-45b8-9538-c2bb13339731",
   "metadata": {},
   "source": [
    "#question no-4\n",
    "suppose i have app.py script and if i want to execte this script from cmd then we can use command python app.py"
   ]
  },
  {
   "cell_type": "code",
   "execution_count": 5,
   "id": "05f99e45-23da-4bbd-b180-da52b5c33e6c",
   "metadata": {},
   "outputs": [
    {
     "data": {
      "text/plain": [
       "[2, 3]"
      ]
     },
     "execution_count": 5,
     "metadata": {},
     "output_type": "execute_result"
    }
   ],
   "source": [
    "#question no-5\n",
    "sub_list=[]\n",
    "my_list=[1,2,3,4,5]\n",
    "sub_list=my_list[1:3]\n",
    "sub_list"
   ]
  },
  {
   "cell_type": "markdown",
   "id": "d39aad4e-3493-4dea-893e-9371f963a774",
   "metadata": {},
   "source": [
    "#Question no-6\n",
    "complex number is combination of real and imaginary number.To represent in python 3+4j where 3 is real and 4 is imaginary part"
   ]
  },
  {
   "cell_type": "code",
   "execution_count": 6,
   "id": "6cf7eb60-4978-4073-9f07-840aa918230b",
   "metadata": {},
   "outputs": [
    {
     "data": {
      "text/plain": [
       "25"
      ]
     },
     "execution_count": 6,
     "metadata": {},
     "output_type": "execute_result"
    }
   ],
   "source": [
    "#question no-7\n",
    "age=25\n",
    "age"
   ]
  },
  {
   "cell_type": "markdown",
   "id": "9ef1cf6c-93d5-4db8-a002-56f1f723f9d5",
   "metadata": {},
   "source": [
    "#question no-8\n",
    "\n",
    "price=9.99\n",
    "data type is float"
   ]
  },
  {
   "cell_type": "code",
   "execution_count": 9,
   "id": "d764a503-9a06-4da5-a2e3-a0937f8ce004",
   "metadata": {},
   "outputs": [
    {
     "name": "stdout",
     "output_type": "stream",
     "text": [
      "chetan kumar\n"
     ]
    }
   ],
   "source": [
    "#question no-9\n",
    "name=\"chetan kumar\"\n",
    "print(name)"
   ]
  },
  {
   "cell_type": "code",
   "execution_count": 11,
   "id": "01fc7e31-0693-4981-ab71-7fe0173dc2b6",
   "metadata": {},
   "outputs": [
    {
     "data": {
      "text/plain": [
       "'World'"
      ]
     },
     "execution_count": 11,
     "metadata": {},
     "output_type": "execute_result"
    }
   ],
   "source": [
    "#question no-10\n",
    "s=\"Hello,World!\"\n",
    "s[6:11]"
   ]
  },
  {
   "cell_type": "code",
   "execution_count": 12,
   "id": "f4e334a3-b0fb-4b1f-97a4-0346c38a09ac",
   "metadata": {},
   "outputs": [],
   "source": [
    "#question no-11\n",
    "is_student=True #if true then you are student else you are not student"
   ]
  },
  {
   "cell_type": "code",
   "execution_count": null,
   "id": "e9e76dc1-f0ba-44d5-919c-152112b7c925",
   "metadata": {},
   "outputs": [],
   "source": []
  }
 ],
 "metadata": {
  "kernelspec": {
   "display_name": "Python 3 (ipykernel)",
   "language": "python",
   "name": "python3"
  },
  "language_info": {
   "codemirror_mode": {
    "name": "ipython",
    "version": 3
   },
   "file_extension": ".py",
   "mimetype": "text/x-python",
   "name": "python",
   "nbconvert_exporter": "python",
   "pygments_lexer": "ipython3",
   "version": "3.10.8"
  }
 },
 "nbformat": 4,
 "nbformat_minor": 5
}
